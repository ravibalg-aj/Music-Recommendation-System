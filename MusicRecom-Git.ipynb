{
 "cells": [
  {
   "cell_type": "code",
   "execution_count": 1,
   "metadata": {},
   "outputs": [],
   "source": [
    "#Basic Library Imports\n",
    "\n",
    "import pandas as pd\n",
    "import numpy as np"
   ]
  },
  {
   "cell_type": "code",
   "execution_count": 2,
   "metadata": {},
   "outputs": [],
   "source": [
    "#Collecting Dataset form Kaggle\n",
    "#Link : https://www.kaggle.com/c/msdchallenge\n",
    "\n",
    "dataset=pd.read_csv(\"kaggle_visible_evaluation_triplets.txt\",delimiter=\"\\t\",names = [\"UserID\",\"SongID\",\"PlayCount\"])"
   ]
  },
  {
   "cell_type": "code",
   "execution_count": 3,
   "metadata": {},
   "outputs": [
    {
     "data": {
      "text/plain": [
       "(1450933, 3)"
      ]
     },
     "execution_count": 3,
     "metadata": {},
     "output_type": "execute_result"
    }
   ],
   "source": [
    "#Since the original dataset contains 14L rows with around 2L Users playlist,Im gonna use only 2L Rows to demo.\n",
    "#I've tried it with all 14L and it has recommended well!\n",
    "\n",
    "dataset.shape"
   ]
  },
  {
   "cell_type": "code",
   "execution_count": 4,
   "metadata": {},
   "outputs": [],
   "source": [
    "#Data Preprocessing\n",
    "#I haven't included the play count yet.\n",
    "\n",
    "dataset = dataset[:200000]"
   ]
  },
  {
   "cell_type": "code",
   "execution_count": 5,
   "metadata": {},
   "outputs": [],
   "source": [
    "#Just collecting the unique users list.\n",
    "\n",
    "df_user = set(dataset[\"UserID\"])\n"
   ]
  },
  {
   "cell_type": "code",
   "execution_count": 9,
   "metadata": {},
   "outputs": [],
   "source": [
    "#Word2Vec (NN-Library)\n",
    "#Ref Link : https://towardsdatascience.com/using-word2vec-for-music-recommendations-bb9649ac2484\n",
    "#Each sentence will be a list of each unique playlist which is collected from the dataset\n",
    "#Each index in w2vdf(Word2Vec Dataframe) will be representing each sentence\n",
    "\n",
    "w2vdf = []\n",
    "for user in df_user:\n",
    "    w2vdf.append(list(dataset.loc[dataset['UserID'] == user][\"SongID\"]))\n"
   ]
  },
  {
   "cell_type": "code",
   "execution_count": 11,
   "metadata": {},
   "outputs": [],
   "source": [
    "#Word2Vec Lib-Import\n",
    "\n",
    "from gensim.models import Word2Vec\n",
    "\n",
    "#Creating model with our w2vdf(Word2Vec Dataframe)\n",
    "\n",
    "model = Word2Vec(w2vdf, size=100, window=5, min_count=2, workers=10, sg=0)"
   ]
  },
  {
   "cell_type": "code",
   "execution_count": 14,
   "metadata": {},
   "outputs": [
    {
     "name": "stderr",
     "output_type": "stream",
     "text": [
      "/Users/ravibalajiaj/anaconda3/lib/python3.6/site-packages/ipykernel_launcher.py:2: DeprecationWarning: Call to deprecated `similar_by_vector` (Method will be removed in 4.0.0, use self.wv.similar_by_vector() instead).\n",
      "  \n"
     ]
    }
   ],
   "source": [
    "#Ready to recommend Song Based on a Single-Song what user heard\n",
    "\n",
    "songs2recom = model.similar_by_vector(\"SOBONKR12A58A7A7E0\" ,topn = 10)"
   ]
  },
  {
   "cell_type": "code",
   "execution_count": 15,
   "metadata": {},
   "outputs": [
    {
     "data": {
      "text/plain": [
       "[('SOEGIYH12A6D4FC0E3', 0.9912980198860168),\n",
       " ('SOSXLTC12AF72A7F54', 0.9904178380966187),\n",
       " ('SOAUWYT12A81C206F1', 0.9900631308555603),\n",
       " ('SOFLJQZ12A6D4FADA6', 0.9877480268478394),\n",
       " ('SOHTKMO12AB01843B0', 0.9862625002861023),\n",
       " ('SOOFYTN12A6D4F9B35', 0.9850723147392273),\n",
       " ('SOBOUPA12A6D4F81F1', 0.984634518623352),\n",
       " ('SOVDSJC12A58A7A271', 0.9842677116394043),\n",
       " ('SOAXGDH12A8C13F8A1', 0.9838822484016418),\n",
       " ('SOUFTBI12AB0183F65', 0.9837355613708496)]"
      ]
     },
     "execution_count": 15,
     "metadata": {},
     "output_type": "execute_result"
    }
   ],
   "source": [
    "#Hoorah!\n",
    "#Result with accuracies(Ranked)!\n",
    "\n",
    "songs2recom"
   ]
  },
  {
   "cell_type": "code",
   "execution_count": null,
   "metadata": {},
   "outputs": [],
   "source": [
    "#Use the Million Dollar dataset to get the song meta data for all those song Id's\n",
    "#Works great with all 14L data!"
   ]
  }
 ],
 "metadata": {
  "kernelspec": {
   "display_name": "Python 3",
   "language": "python",
   "name": "python3"
  },
  "language_info": {
   "codemirror_mode": {
    "name": "ipython",
    "version": 3
   },
   "file_extension": ".py",
   "mimetype": "text/x-python",
   "name": "python",
   "nbconvert_exporter": "python",
   "pygments_lexer": "ipython3",
   "version": "3.6.8"
  }
 },
 "nbformat": 4,
 "nbformat_minor": 2
}
